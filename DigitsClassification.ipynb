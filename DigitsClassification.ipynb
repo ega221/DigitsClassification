{
 "cells": [
  {
   "cell_type": "markdown",
   "id": "d373452f",
   "metadata": {},
   "source": [
    "# Imports"
   ]
  },
  {
   "cell_type": "code",
   "execution_count": 36,
   "id": "9ea370d1",
   "metadata": {},
   "outputs": [],
   "source": [
    "import pandas as pd \n",
    "from sklearn.tree import DecisionTreeClassifier\n",
    "from sklearn.linear_model import LogisticRegression\n",
    "from sklearn.svm import SVC\n",
    "from sklearn import datasets \n",
    "from sklearn.decomposition import PCA\n",
    "from sklearn.manifold import TSNE \n",
    "from sklearn.model_selection import train_test_split\n",
    "from sklearn.ensemble import RandomForestClassifier\n",
    "from sklearn.metrics import accuracy_score\n",
    "\n",
    "import time"
   ]
  },
  {
   "cell_type": "markdown",
   "id": "d4f65854",
   "metadata": {},
   "source": [
    "# Params"
   ]
  },
  {
   "cell_type": "code",
   "execution_count": 37,
   "id": "965e501b",
   "metadata": {},
   "outputs": [],
   "source": [
    "RANDOM_STATE = 42\n",
    "LOGISTIC_REGRESSION_MAX_ITERATIONS = 10000 \n",
    "RANDOM_FOREST_CLASSIFIER_ESTIMATORS = 100\n",
    "PCA_DISPERSION = 0.9\n",
    "TSNE_DIMENSIONS = 2\n",
    "TEST_SIZE = 0.2"
   ]
  },
  {
   "cell_type": "markdown",
   "id": "d6f19acf",
   "metadata": {},
   "source": [
    "# Dataset"
   ]
  },
  {
   "cell_type": "code",
   "execution_count": 38,
   "id": "133ad404",
   "metadata": {},
   "outputs": [],
   "source": [
    "df = datasets.load_digits()\n",
    "X = df.data\n",
    "y = df.target"
   ]
  },
  {
   "cell_type": "markdown",
   "id": "3b10748f",
   "metadata": {},
   "source": [
    "# Models"
   ]
  },
  {
   "cell_type": "code",
   "execution_count": 39,
   "id": "72142faf",
   "metadata": {},
   "outputs": [],
   "source": [
    "models = {\n",
    "    \"SVC\": SVC(random_state=RANDOM_STATE),\n",
    "    \"DecisionTreeClassifier\": DecisionTreeClassifier(random_state=RANDOM_STATE),\n",
    "    \"LogisticRegression\" : LogisticRegression(max_iter=LOGISTIC_REGRESSION_MAX_ITERATIONS, random_state=RANDOM_STATE),\n",
    "    \"RandomForestClassifier\" : RandomForestClassifier(n_estimators=RANDOM_FOREST_CLASSIFIER_ESTIMATORS, random_state=RANDOM_STATE)\n",
    "}"
   ]
  },
  {
   "cell_type": "code",
   "execution_count": 40,
   "id": "ec1e83e5",
   "metadata": {},
   "outputs": [],
   "source": [
    "transformers = {\n",
    "    \"PCA\": PCA(n_components=PCA_DISPERSION, random_state=RANDOM_STATE),\n",
    "    \"TSNE\": TSNE(n_components=TSNE_DIMENSIONS, random_state=RANDOM_STATE)\n",
    "}"
   ]
  },
  {
   "cell_type": "markdown",
   "id": "c65d66fb",
   "metadata": {},
   "source": [
    "# Train"
   ]
  },
  {
   "cell_type": "markdown",
   "id": "f441ae79",
   "metadata": {},
   "source": [
    "## Без уменьшения размерности"
   ]
  },
  {
   "cell_type": "code",
   "execution_count": 41,
   "id": "605f2a1a",
   "metadata": {},
   "outputs": [],
   "source": [
    "X_train, X_test, y_train, y_test = train_test_split(X, y, test_size=TEST_SIZE, random_state=RANDOM_STATE, stratify=y)\n",
    "\n",
    "predicts = {}\n",
    "for model_name, model in models.items():\n",
    "    model.fit(X_train, y_train)\n",
    "    predicts[model_name] = model.predict(X_test)"
   ]
  },
  {
   "cell_type": "markdown",
   "id": "ee7027cf",
   "metadata": {},
   "source": [
    "## С уменьшением размерности"
   ]
  },
  {
   "cell_type": "code",
   "execution_count": 42,
   "id": "fed320fe",
   "metadata": {},
   "outputs": [],
   "source": [
    "processing_time = {}\n",
    "transformed_predicts = {}"
   ]
  },
  {
   "cell_type": "markdown",
   "id": "00185d18",
   "metadata": {},
   "source": [
    "### PCA"
   ]
  },
  {
   "cell_type": "code",
   "execution_count": 43,
   "id": "99609f71",
   "metadata": {},
   "outputs": [],
   "source": [
    "X_train, X_test, y_train, y_test = train_test_split(X, y, test_size=TEST_SIZE, random_state=RANDOM_STATE, stratify=y)\n",
    "\n",
    "transformed_predicts[\"PCA\"] = {}\n",
    "\n",
    "start_time = time.time()\n",
    "transformers[\"PCA\"].fit(X_train)\n",
    "X_train_transformed = transformers[\"PCA\"].transform(X_train)\n",
    "X_test_transformed = transformers[\"PCA\"].transform(X_test)\n",
    "processing_time[\"PCA\"] = time.time() - start_time\n",
    "\n",
    "for model_name, model in models.items():\n",
    "    model.fit(X_train_transformed, y_train)\n",
    "    transformed_predicts[\"PCA\"][model_name] = model.predict(X_test_transformed)"
   ]
  },
  {
   "cell_type": "markdown",
   "id": "aa15742f",
   "metadata": {},
   "source": [
    "### TSNE"
   ]
  },
  {
   "cell_type": "code",
   "execution_count": 44,
   "id": "9571ab92",
   "metadata": {},
   "outputs": [],
   "source": [
    "X_train, X_test, y_train, y_test = train_test_split(X, y, test_size=TEST_SIZE, random_state=RANDOM_STATE, stratify=y)\n",
    "\n",
    "transformed_predicts[\"TSNE\"] = {}\n",
    "\n",
    "start_time = time.time()\n",
    "X = transformers[\"TSNE\"].fit_transform(X)\n",
    "processing_time[\"TSNE\"] = time.time() - start_time\n",
    "\n",
    "X_train, X_test, y_train, y_test = train_test_split(X, y, test_size=TEST_SIZE, random_state=RANDOM_STATE, stratify=y)\n",
    "\n",
    "for model_name, model in models.items():\n",
    "    model.fit(X_train, y_train)\n",
    "    transformed_predicts[\"TSNE\"][model_name] = model.predict(X_test)"
   ]
  },
  {
   "cell_type": "markdown",
   "id": "f2a0a032",
   "metadata": {},
   "source": [
    "# Результаты"
   ]
  },
  {
   "cell_type": "markdown",
   "id": "704a07e2",
   "metadata": {},
   "source": [
    "## Score без снижения размерности:"
   ]
  },
  {
   "cell_type": "code",
   "execution_count": 45,
   "id": "0779f3da",
   "metadata": {},
   "outputs": [
    {
     "name": "stdout",
     "output_type": "stream",
     "text": [
      "Модель SVC score:  0.9916666666666667 \n",
      "\n",
      "Модель DecisionTreeClassifier score:  0.825 \n",
      "\n",
      "Модель LogisticRegression score:  0.9611111111111111 \n",
      "\n",
      "Модель RandomForestClassifier score:  0.9611111111111111 \n",
      "\n"
     ]
    }
   ],
   "source": [
    "for model_name, predict in predicts.items():\n",
    "    print(f\"Модель {model_name} score: \", accuracy_score(y_true=y_test, y_pred=predict), \"\\n\")"
   ]
  },
  {
   "cell_type": "markdown",
   "id": "7e2cce74",
   "metadata": {},
   "source": [
    "## Score со снижением размерности"
   ]
  },
  {
   "cell_type": "code",
   "execution_count": 46,
   "id": "20eb1f1a",
   "metadata": {
    "scrolled": true
   },
   "outputs": [
    {
     "name": "stdout",
     "output_type": "stream",
     "text": [
      "**********PCA**********\n",
      "Модель SVC score:  0.9888888888888889 \n",
      "\n",
      "Модель DecisionTreeClassifier score:  0.8472222222222222 \n",
      "\n",
      "Модель LogisticRegression score:  0.9333333333333333 \n",
      "\n",
      "Модель RandomForestClassifier score:  0.9722222222222222 \n",
      "\n",
      "************************\n",
      "**********TSNE**********\n",
      "Модель SVC score:  0.9638888888888889 \n",
      "\n",
      "Модель DecisionTreeClassifier score:  0.9722222222222222 \n",
      "\n",
      "Модель LogisticRegression score:  0.9083333333333333 \n",
      "\n",
      "Модель RandomForestClassifier score:  0.9805555555555555 \n",
      "\n",
      "************************\n"
     ]
    }
   ],
   "source": [
    "for transformer_name, predicts in transformed_predicts.items():\n",
    "    print(f\"**********{transformer_name}**********\")\n",
    "    for model_name, predict in predicts.items():\n",
    "        print(f\"Модель {model_name} score: \", accuracy_score(y_true=y_test, y_pred=predict), \"\\n\")\n",
    "    print(\"************************\")\n"
   ]
  },
  {
   "cell_type": "markdown",
   "id": "0e14f20b",
   "metadata": {},
   "source": [
    "# Результаты"
   ]
  },
  {
   "cell_type": "markdown",
   "id": "3a87236d",
   "metadata": {},
   "source": [
    "Время, потребовавшееся для сокращения размерности исходного набора данных:"
   ]
  },
  {
   "cell_type": "code",
   "execution_count": 47,
   "id": "9fc9fa92",
   "metadata": {},
   "outputs": [
    {
     "name": "stdout",
     "output_type": "stream",
     "text": [
      "PCA: 0.02181553840637207 секунд\n",
      "TSNE: 3.5311460494995117 секунд\n"
     ]
    }
   ],
   "source": [
    "for transformer_name, time in processing_time.items():\n",
    "    print(f\"{transformer_name}: {time} секунд\")"
   ]
  },
  {
   "cell_type": "markdown",
   "id": "ff034734",
   "metadata": {},
   "source": [
    "Для сохранения 90% дисперсии алгоритм PCA оставил:"
   ]
  },
  {
   "cell_type": "code",
   "execution_count": 48,
   "id": "2a4e04e5",
   "metadata": {},
   "outputs": [
    {
     "name": "stdout",
     "output_type": "stream",
     "text": [
      "21\n"
     ]
    }
   ],
   "source": [
    "print(transformers[\"PCA\"].n_components_)"
   ]
  },
  {
   "cell_type": "markdown",
   "id": "7b536129",
   "metadata": {},
   "source": [
    "В результате работы, можно увидеть, что снижение размерности хорошо сказалось на алгоритмах случайного леса и древа решений, причём наиболее явные изменения для древа решений, особенно в случае TSNE.\n",
    "\n",
    "Для остальных моделей, результаты стали хуже.\n",
    "\n",
    "В целом, если сравнивать по результатам лучше всего отработал SVC без уменьшения размерности."
   ]
  }
 ],
 "metadata": {
  "kernelspec": {
   "display_name": "Python 3 (ipykernel)",
   "language": "python",
   "name": "python3"
  },
  "language_info": {
   "codemirror_mode": {
    "name": "ipython",
    "version": 3
   },
   "file_extension": ".py",
   "mimetype": "text/x-python",
   "name": "python",
   "nbconvert_exporter": "python",
   "pygments_lexer": "ipython3",
   "version": "3.11.4"
  }
 },
 "nbformat": 4,
 "nbformat_minor": 5
}
